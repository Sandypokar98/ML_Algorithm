{
 "cells": [
  {
   "cell_type": "markdown",
   "id": "6e5e4110-e3a6-4104-83d6-05e79b4a8860",
   "metadata": {},
   "source": [
    "## Importing libraries"
   ]
  },
  {
   "cell_type": "code",
   "execution_count": 162,
   "id": "9d708b81-988b-413b-952f-7e9762f3ae27",
   "metadata": {},
   "outputs": [],
   "source": [
    "import tensorflow as tf\n",
    "from tensorflow import keras\n",
    "import matplotlib.pyplot as plt\n",
    "%matplotlib inline\n",
    "import numpy as np\n",
    "import seaborn as sns"
   ]
  },
  {
   "cell_type": "markdown",
   "id": "31b6a3cc-ab8d-4a14-939a-a7af641ed3c2",
   "metadata": {},
   "source": [
    "## Importing data"
   ]
  },
  {
   "cell_type": "code",
   "execution_count": 163,
   "id": "a521a768-f2a0-45d6-be07-da1259251696",
   "metadata": {},
   "outputs": [],
   "source": [
    "(X_train,y_train),(X_test,y_test)=keras.datasets.mnist.load_data()"
   ]
  },
  {
   "cell_type": "code",
   "execution_count": 164,
   "id": "3cf4d44e-5614-43df-b5ea-9f7b2eff87bd",
   "metadata": {},
   "outputs": [
    {
     "data": {
      "text/plain": [
       "60000"
      ]
     },
     "execution_count": 164,
     "metadata": {},
     "output_type": "execute_result"
    }
   ],
   "source": [
    "len(X_train)"
   ]
  },
  {
   "cell_type": "code",
   "execution_count": 165,
   "id": "317bf85a-8010-4d08-9a0d-91f63f6df4fb",
   "metadata": {},
   "outputs": [
    {
     "data": {
      "text/plain": [
       "10000"
      ]
     },
     "execution_count": 165,
     "metadata": {},
     "output_type": "execute_result"
    }
   ],
   "source": [
    "len(X_test)"
   ]
  },
  {
   "cell_type": "code",
   "execution_count": 166,
   "id": "ed99f848-930f-4fa5-875d-5b489e06934f",
   "metadata": {},
   "outputs": [
    {
     "data": {
      "text/plain": [
       "(28, 28)"
      ]
     },
     "execution_count": 166,
     "metadata": {},
     "output_type": "execute_result"
    }
   ],
   "source": [
    "X_train[0].shape"
   ]
  },
  {
   "cell_type": "code",
   "execution_count": 167,
   "id": "22d57f37-c598-43ba-ac52-ab15f7deeaff",
   "metadata": {},
   "outputs": [
    {
     "data": {
      "image/png": "[encoded data removed]",
      "text/plain": [
       "<Figure size 480x480 with 1 Axes>"
      ]
     },
     "metadata": {},
     "output_type": "display_data"
    }
   ],
   "source": [
    "plt.matshow(X_train[1])\n",
    "plt.show()"
   ]
  },
  {
   "cell_type": "code",
   "execution_count": 168,
   "id": "00f8e2c7-cb2f-46e2-bd39-cd57bd67fb0e",
   "metadata": {},
   "outputs": [
    {
     "data": {
      "text/plain": [
       "0"
      ]
     },
     "execution_count": 168,
     "metadata": {},
     "output_type": "execute_result"
    }
   ],
   "source": [
    "y_train[1]"
   ]
  },
  {
   "cell_type": "markdown",
   "id": "1bff7bec-0896-4ef9-8c85-90dff0cc05bb",
   "metadata": {},
   "source": [
    "## Scaling data for better accuracy"
   ]
  },
  {
   "cell_type": "code",
   "execution_count": 169,
   "id": "129fdef9-bc22-4f37-b011-69d31b387960",
   "metadata": {},
   "outputs": [],
   "source": [
    "X_train=X_train/255\n",
    "X_test=X_test/255"
   ]
  },
  {
   "cell_type": "markdown",
   "id": "65860063-9df5-4c2d-afd5-e7aa7330ef1c",
   "metadata": {},
   "source": [
    "## Reshaping the data"
   ]
  },
  {
   "cell_type": "code",
   "execution_count": 170,
   "id": "cf3edc91-f3fb-499b-82b2-4827666a2982",
   "metadata": {},
   "outputs": [],
   "source": [
    "X_train_flattened=X_train.reshape(len(X_train),28*28)\n",
    "X_test_flattened=X_test.reshape(len(X_test),28*28)"
   ]
  },
  {
   "cell_type": "code",
   "execution_count": 171,
   "id": "d8c73945-abe0-4146-8c28-004193bacb68",
   "metadata": {},
   "outputs": [
    {
     "name": "stdout",
     "output_type": "stream",
     "text": [
      "(60000, 784)\n",
      "(10000, 784)\n"
     ]
    }
   ],
   "source": [
    "print(X_train_flattened.shape)\n",
    "print(X_test_flattened.shape)"
   ]
  },
  {
   "cell_type": "markdown",
   "id": "eeef2363-7d55-4157-af41-c1f40c21f239",
   "metadata": {},
   "source": []
  },
  {
   "cell_type": "markdown",
   "id": "c83714b7-5f2b-491d-87bd-308549a2780e",
   "metadata": {},
   "source": [
    "## Model Creation"
   ]
  },
  {
   "cell_type": "code",
   "execution_count": 172,
   "id": "cbd162a8-204f-4163-8011-7c2019fc5211",
   "metadata": {},
   "outputs": [],
   "source": [
    "single_layer_model=keras.Sequential([\n",
    "    keras.Input(shape=(784,)),\n",
    "    keras.layers.Dense(10, activation=\"sigmoid\")\n",
    "])\n"
   ]
  },
  {
   "cell_type": "markdown",
   "id": "eaac0ead-3753-45ed-ba08-8cffb7050e20",
   "metadata": {},
   "source": [
    "## Model compilation"
   ]
  },
  {
   "cell_type": "code",
   "execution_count": 173,
   "id": "7d5999ee-a299-47ff-9bef-fd96024903b5",
   "metadata": {},
   "outputs": [],
   "source": [
    "single_layer_model.compile(\n",
    "    optimizer=\"adam\",\n",
    "    loss=\"sparse_categorical_crossentropy\",\n",
    "    metrics=[\"accuracy\"]\n",
    ")"
   ]
  },
  {
   "cell_type": "markdown",
   "id": "fee7217c-3f33-48d3-8989-158dc0788785",
   "metadata": {},
   "source": [
    "## Model Training"
   ]
  },
  {
   "cell_type": "code",
   "execution_count": 174,
   "id": "37dac4fe-51c2-4884-aca2-a0c5fe7864ed",
   "metadata": {},
   "outputs": [
    {
     "name": "stdout",
     "output_type": "stream",
     "text": [
      "Epoch 1/5\n",
      "\u001b[1m1875/1875\u001b[0m \u001b[32m━━━━━━━━━━━━━━━━━━━━\u001b[0m\u001b[37m\u001b[0m \u001b[1m5s\u001b[0m 2ms/step - accuracy: 0.8183 - loss: 0.7181\n",
      "Epoch 2/5\n",
      "\u001b[1m1875/1875\u001b[0m \u001b[32m━━━━━━━━━━━━━━━━━━━━\u001b[0m\u001b[37m\u001b[0m \u001b[1m3s\u001b[0m 2ms/step - accuracy: 0.9136 - loss: 0.3123\n",
      "Epoch 3/5\n",
      "\u001b[1m1875/1875\u001b[0m \u001b[32m━━━━━━━━━━━━━━━━━━━━\u001b[0m\u001b[37m\u001b[0m \u001b[1m3s\u001b[0m 2ms/step - accuracy: 0.9215 - loss: 0.2782\n",
      "Epoch 4/5\n",
      "\u001b[1m1875/1875\u001b[0m \u001b[32m━━━━━━━━━━━━━━━━━━━━\u001b[0m\u001b[37m\u001b[0m \u001b[1m4s\u001b[0m 2ms/step - accuracy: 0.9256 - loss: 0.2655\n",
      "Epoch 5/5\n",
      "\u001b[1m1875/1875\u001b[0m \u001b[32m━━━━━━━━━━━━━━━━━━━━\u001b[0m\u001b[37m\u001b[0m \u001b[1m4s\u001b[0m 2ms/step - accuracy: 0.9249 - loss: 0.2649\n"
     ]
    },
    {
     "data": {
      "text/plain": [
       "<keras.src.callbacks.history.History at 0x147073008f0>"
      ]
     },
     "execution_count": 174,
     "metadata": {},
     "output_type": "execute_result"
    }
   ],
   "source": [
    "single_layer_model.fit(X_train_flattened,y_train,epochs=5)"
   ]
  },
  {
   "cell_type": "markdown",
   "id": "95ab15ca-66e2-4744-aef7-4f0cc291efa0",
   "metadata": {},
   "source": [
    "## Model Evaluation"
   ]
  },
  {
   "cell_type": "code",
   "execution_count": 175,
   "id": "2816ed9b-0c1f-41c8-a31c-24a699832f64",
   "metadata": {},
   "outputs": [
    {
     "name": "stdout",
     "output_type": "stream",
     "text": [
      "\u001b[1m313/313\u001b[0m \u001b[32m━━━━━━━━━━━━━━━━━━━━\u001b[0m\u001b[37m\u001b[0m \u001b[1m1s\u001b[0m 2ms/step - accuracy: 0.9159 - loss: 0.3031\n"
     ]
    },
    {
     "data": {
      "text/plain": [
       "[0.26698461174964905, 0.926800012588501]"
      ]
     },
     "execution_count": 175,
     "metadata": {},
     "output_type": "execute_result"
    }
   ],
   "source": [
    "single_layer_model.evaluate(X_test_flattened,y_test)"
   ]
  },
  {
   "cell_type": "markdown",
   "id": "e0888171-0825-4154-b19c-934ecc8ee1b5",
   "metadata": {},
   "source": [
    "## Visualization"
   ]
  },
  {
   "cell_type": "code",
   "execution_count": 176,
   "id": "2d9c9566-69fd-4223-a80a-4da93d340df8",
   "metadata": {},
   "outputs": [
    {
     "name": "stdout",
     "output_type": "stream",
     "text": [
      "\u001b[1m313/313\u001b[0m \u001b[32m━━━━━━━━━━━━━━━━━━━━\u001b[0m\u001b[37m\u001b[0m \u001b[1m1s\u001b[0m 2ms/step\n"
     ]
    }
   ],
   "source": [
    "y_pred=single_layer_model.predict(X_test_flattened)\n",
    "y_pred_labels=[np.argmax(i) for i in y_pred]"
   ]
  },
  {
   "cell_type": "code",
   "execution_count": 177,
   "id": "1af6ad34-1b70-4023-b8df-b82e8ca75f8c",
   "metadata": {},
   "outputs": [
    {
     "data": {
      "text/plain": [
       "<tf.Tensor: shape=(10, 10), dtype=int32, numpy=\n",
       "array([[ 962,    0,    2,    2,    0,    6,    5,    2,    1,    0],\n",
       "       [   0, 1112,    3,    2,    0,    1,    4,    2,   11,    0],\n",
       "       [   3,    7,  933,   18,    7,    5,   11,    9,   36,    3],\n",
       "       [   3,    0,   18,  927,    0,   26,    2,   12,   16,    6],\n",
       "       [   1,    1,    8,    2,  914,    0,    8,    5,   11,   32],\n",
       "       [   7,    3,    7,   37,    7,  788,    8,    6,   24,    5],\n",
       "       [  12,    3,   11,    1,    7,   16,  904,    2,    2,    0],\n",
       "       [   1,    5,   24,    4,    4,    1,    0,  962,    4,   23],\n",
       "       [   5,    7,    7,   31,    9,   31,    8,   13,  857,    6],\n",
       "       [   9,    7,    2,   12,   26,    7,    0,   32,    5,  909]])>"
      ]
     },
     "execution_count": 177,
     "metadata": {},
     "output_type": "execute_result"
    }
   ],
   "source": [
    "confusion_matrix=tf.math.confusion_matrix(labels=y_test,predictions=y_pred_labels)\n",
    "confusion_matrix"
   ]
  },
  {
   "cell_type": "code",
   "execution_count": 178,
   "id": "a1de6125-f48c-48f7-9e1e-ceb27be1a881",
   "metadata": {},
   "outputs": [
    {
     "data": {
      "image/png": "[encoded data removed]",
      "text/plain": [
       "<Figure size 1000x700 with 2 Axes>"
      ]
     },
     "metadata": {},
     "output_type": "display_data"
    }
   ],
   "source": [
    "plt.figure(figsize=(10,7))\n",
    "plt.xlabel(\"Pred\")\n",
    "plt.ylabel(\"Truth\")\n",
    "sns.heatmap(confusion_matrix,annot=True,fmt=\"d\")\n",
    "plt.show()"
   ]
  },
  {
   "cell_type": "markdown",
   "id": "24a92496-2be9-46ae-b18c-b63c5de8b475",
   "metadata": {},
   "source": [
    "### Model gives accuracy of 92.65%\n",
    "### To improve accuracy we are going to add one hidden laye in model"
   ]
  },
  {
   "cell_type": "markdown",
   "id": "68ac4ded-139b-464f-941e-e476360f70f0",
   "metadata": {},
   "source": [
    "## 2 layered model creation"
   ]
  },
  {
   "cell_type": "code",
   "execution_count": 179,
   "id": "445013c4-416a-48cb-a3d7-ecdd598e44ef",
   "metadata": {},
   "outputs": [],
   "source": [
    "Two_layer_model=keras.Sequential([\n",
    "    keras.Input(shape=(784,)),\n",
    "    keras.layers.Dense(100, activation=\"relu\"),\n",
    "    keras.layers.Dense(10, activation=\"sigmoid\")\n",
    "])"
   ]
  },
  {
   "cell_type": "code",
   "execution_count": 180,
   "id": "de9fbf3c-1a10-41cb-bf34-0b00f403794c",
   "metadata": {},
   "outputs": [],
   "source": [
    "Two_layer_model.compile(\n",
    "    optimizer=\"adam\",\n",
    "    loss=\"sparse_categorical_crossentropy\",\n",
    "    metrics=[\"accuracy\"]\n",
    ")"
   ]
  },
  {
   "cell_type": "code",
   "execution_count": 181,
   "id": "09b98695-e51e-4dcc-abde-959bc61accb1",
   "metadata": {},
   "outputs": [
    {
     "name": "stdout",
     "output_type": "stream",
     "text": [
      "Epoch 1/5\n",
      "\u001b[1m1875/1875\u001b[0m \u001b[32m━━━━━━━━━━━━━━━━━━━━\u001b[0m\u001b[37m\u001b[0m \u001b[1m7s\u001b[0m 3ms/step - accuracy: 0.8660 - loss: 0.4730\n",
      "Epoch 2/5\n",
      "\u001b[1m1875/1875\u001b[0m \u001b[32m━━━━━━━━━━━━━━━━━━━━\u001b[0m\u001b[37m\u001b[0m \u001b[1m5s\u001b[0m 3ms/step - accuracy: 0.9599 - loss: 0.1377\n",
      "Epoch 3/5\n",
      "\u001b[1m1875/1875\u001b[0m \u001b[32m━━━━━━━━━━━━━━━━━━━━\u001b[0m\u001b[37m\u001b[0m \u001b[1m5s\u001b[0m 3ms/step - accuracy: 0.9727 - loss: 0.0904\n",
      "Epoch 4/5\n",
      "\u001b[1m1875/1875\u001b[0m \u001b[32m━━━━━━━━━━━━━━━━━━━━\u001b[0m\u001b[37m\u001b[0m \u001b[1m6s\u001b[0m 3ms/step - accuracy: 0.9797 - loss: 0.0683\n",
      "Epoch 5/5\n",
      "\u001b[1m1875/1875\u001b[0m \u001b[32m━━━━━━━━━━━━━━━━━━━━\u001b[0m\u001b[37m\u001b[0m \u001b[1m10s\u001b[0m 3ms/step - accuracy: 0.9833 - loss: 0.0519\n"
     ]
    },
    {
     "data": {
      "text/plain": [
       "<keras.src.callbacks.history.History at 0x14707e52e70>"
      ]
     },
     "execution_count": 181,
     "metadata": {},
     "output_type": "execute_result"
    }
   ],
   "source": [
    "Two_layer_model.fit(X_train_flattened,y_train,epochs=5)"
   ]
  },
  {
   "cell_type": "code",
   "execution_count": 182,
   "id": "6d75bcaf-83eb-461e-a843-e0603114e936",
   "metadata": {},
   "outputs": [
    {
     "name": "stdout",
     "output_type": "stream",
     "text": [
      "\u001b[1m313/313\u001b[0m \u001b[32m━━━━━━━━━━━━━━━━━━━━\u001b[0m\u001b[37m\u001b[0m \u001b[1m1s\u001b[0m 3ms/step - accuracy: 0.9708 - loss: 0.1008\n"
     ]
    },
    {
     "data": {
      "text/plain": [
       "[0.08367861062288284, 0.9753999710083008]"
      ]
     },
     "execution_count": 182,
     "metadata": {},
     "output_type": "execute_result"
    }
   ],
   "source": [
    "Two_layer_model.evaluate(X_test_flattened,y_test)"
   ]
  },
  {
   "cell_type": "markdown",
   "id": "4e1a0c00-61eb-4d04-abd5-bbec90d42f9a",
   "metadata": {},
   "source": [
    "## Addition of 1 extra layer imnproves accuracy from 92% to 97%"
   ]
  },
  {
   "cell_type": "markdown",
   "id": "b1d47813-bea4-49a3-b382-bf49402f0de1",
   "metadata": {},
   "source": [
    "## Visualization"
   ]
  },
  {
   "cell_type": "code",
   "execution_count": 183,
   "id": "6c6b8c90-fa63-43bd-b454-859e2aa4d3de",
   "metadata": {},
   "outputs": [
    {
     "name": "stdout",
     "output_type": "stream",
     "text": [
      "\u001b[1m313/313\u001b[0m \u001b[32m━━━━━━━━━━━━━━━━━━━━\u001b[0m\u001b[37m\u001b[0m \u001b[1m1s\u001b[0m 2ms/step\n"
     ]
    }
   ],
   "source": [
    "y_pred=Two_layer_model.predict(X_test_flattened)\n",
    "y_pred_labels=[np.argmax(i) for i in y_pred]"
   ]
  },
  {
   "cell_type": "code",
   "execution_count": 184,
   "id": "7cd85a56-b861-443d-a334-3be35802d261",
   "metadata": {},
   "outputs": [
    {
     "data": {
      "text/plain": [
       "<tf.Tensor: shape=(10, 10), dtype=int32, numpy=\n",
       "array([[ 966,    1,    4,    0,    1,    0,    3,    2,    2,    1],\n",
       "       [   0, 1123,    4,    0,    0,    0,    2,    1,    5,    0],\n",
       "       [   0,    0, 1022,    0,    2,    0,    1,    5,    2,    0],\n",
       "       [   0,    0,   14,  986,    1,    0,    0,    6,    3,    0],\n",
       "       [   0,    0,    8,    0,  959,    0,    2,    3,    1,    9],\n",
       "       [   6,    1,    0,   23,    1,  849,    3,    1,    6,    2],\n",
       "       [   5,    3,    2,    1,    5,    2,  935,    1,    4,    0],\n",
       "       [   1,    4,   13,    2,    0,    0,    0, 1001,    2,    5],\n",
       "       [   4,    0,    7,    7,    5,    2,    2,    5,  939,    3],\n",
       "       [   3,    3,    0,    7,   10,    1,    0,    8,    3,  974]])>"
      ]
     },
     "execution_count": 184,
     "metadata": {},
     "output_type": "execute_result"
    }
   ],
   "source": [
    "confusion_matrix=tf.math.confusion_matrix(labels=y_test,predictions=y_pred_labels)\n",
    "confusion_matrix"
   ]
  },
  {
   "cell_type": "code",
   "execution_count": 185,
   "id": "739e4aa0-b087-4171-8e2e-e292bde4919c",
   "metadata": {},
   "outputs": [
    {
     "data": {
      "image/png": "[encoded data removed]",
      "text/plain": [
       "<Figure size 1000x700 with 2 Axes>"
      ]
     },
     "metadata": {},
     "output_type": "display_data"
    }
   ],
   "source": [
    "plt.figure(figsize=(10,7))\n",
    "plt.xlabel(\"Pred\")\n",
    "plt.ylabel(\"Truth\")\n",
    "sns.heatmap(confusion_matrix,annot=True,fmt=\"d\")\n",
    "plt.show()"
   ]
  },
  {
   "cell_type": "code",
   "execution_count": null,
   "id": "83b6da8f-6926-406f-a7f6-1c224309715d",
   "metadata": {},
   "outputs": [],
   "source": []
  },
  {
   "cell_type": "code",
   "execution_count": null,
   "id": "6e155f6a-fd92-4e76-9124-5a53b052527f",
   "metadata": {},
   "outputs": [],
   "source": []
  }
 ],
 "metadata": {
  "kernelspec": {
   "display_name": "Python 3 (ipykernel)",
   "language": "python",
   "name": "python3"
  },
  "language_info": {
   "codemirror_mode": {
    "name": "ipython",
    "version": 3
   },
   "file_extension": ".py",
   "mimetype": "text/x-python",
   "name": "python",
   "nbconvert_exporter": "python",
   "pygments_lexer": "ipython3",
   "version": "3.12.7"
  }
 },
 "nbformat": 4,
 "nbformat_minor": 5
}
